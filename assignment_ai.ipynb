{
  "nbformat": 4,
  "nbformat_minor": 0,
  "metadata": {
    "colab": {
      "provenance": [],
      "gpuType": "T4",
      "authorship_tag": "ABX9TyPmADA5+RzB0VLv6n+YTgE8",
      "include_colab_link": true
    },
    "kernelspec": {
      "name": "python3",
      "display_name": "Python 3"
    },
    "language_info": {
      "name": "python"
    },
    "accelerator": "GPU"
  },
  "cells": [
    {
      "cell_type": "markdown",
      "metadata": {
        "id": "view-in-github",
        "colab_type": "text"
      },
      "source": [
        "<a href=\"https://colab.research.google.com/github/kaartikaykhanduri/Intellify_AI_assignment/blob/main/assignment_ai.ipynb\" target=\"_parent\"><img src=\"https://colab.research.google.com/assets/colab-badge.svg\" alt=\"Open In Colab\"/></a>"
      ]
    },
    {
      "cell_type": "code",
      "source": [
        "import requests\n",
        "\n",
        "# Function to download PDF from Google Drive link\n",
        "def download_pdf_from_drive(link, save_path):\n",
        "    # Extract file ID from the link\n",
        "    file_id = link.split('/')[-2]\n",
        "\n",
        "    # Construct direct download link\n",
        "    download_link = f\"https://drive.google.com/uc?id={file_id}\"\n",
        "\n",
        "\n",
        "    # Download the PDF\n",
        "    response = requests.get(download_link)\n",
        "\n",
        "    # Save PDF to specified path\n",
        "    with open(save_path, 'wb') as f:\n",
        "        f.write(response.content)\n",
        "    print(\"PDF downloaded successfully!\")\n",
        "\n",
        "# Example Google Drive link\n",
        "google_drive_link = \"https://drive.google.com/file/d/1NP51IbpiXiVl0omdD5KrdKmNDn_ZSdpN/view?usp=sharing\"\n",
        "\n",
        "# Specify the path where you want to save the PDF in Colab\n",
        "save_path = \"/content/BigMacIndex.pdf\"  # Update this path as per your requirement\n",
        "\n",
        "# Call the function to download the PDF\n",
        "download_pdf_from_drive(google_drive_link, save_path)\n"
      ],
      "metadata": {
        "id": "TEKSBQ_Yx_de",
        "colab": {
          "base_uri": "https://localhost:8080/"
        },
        "outputId": "094fd392-8497-49f9-f276-d0a2c312c2f3"
      },
      "execution_count": null,
      "outputs": [
        {
          "output_type": "stream",
          "name": "stdout",
          "text": [
            "PDF downloaded successfully!\n"
          ]
        }
      ]
    },
    {
      "cell_type": "code",
      "source": [
        "from IPython.display import display, FileLink\n",
        "\n",
        "# Specify the path to the downloaded PDF file\n",
        "pdf_path = \"/content/BigMacIndex.pdf\"  # Update this path as per your requirement\n",
        "\n",
        "# Display a link to the PDF file\n",
        "display(FileLink(pdf_path))\n"
      ],
      "metadata": {
        "colab": {
          "base_uri": "https://localhost:8080/",
          "height": 34
        },
        "id": "RelNawyIzBaa",
        "outputId": "627912c9-37e2-4e37-8e1a-52d48ddaeb57"
      },
      "execution_count": null,
      "outputs": [
        {
          "output_type": "display_data",
          "data": {
            "text/plain": [
              "/content/BigMacIndex.pdf"
            ],
            "text/html": [
              "<a href='/content/BigMacIndex.pdf' target='_blank'>/content/BigMacIndex.pdf</a><br>"
            ]
          },
          "metadata": {}
        }
      ]
    },
    {
      "cell_type": "code",
      "source": [
        "!pip install pdfplumber"
      ],
      "metadata": {
        "id": "gT3S9gs2zQfP"
      },
      "execution_count": null,
      "outputs": []
    },
    {
      "cell_type": "code",
      "source": [
        "import pdfplumber\n",
        "\n",
        "def pdf_to_text(pdf_path):\n",
        "    # Open the PDF file\n",
        "    with pdfplumber.open(pdf_path) as pdf:\n",
        "        text = \"\"\n",
        "        # Extract text from each page\n",
        "        for page in pdf.pages:\n",
        "            text += page.extract_text()\n",
        "    return text\n",
        "\n",
        "# Specify the path to the downloaded PDF file\n",
        "pdf_path = \"/content/BigMacIndex.pdf\"  # Update this path as per your requirement\n",
        "\n",
        "# Convert PDF to text\n",
        "pdf_text = pdf_to_text(pdf_path)\n",
        "\n",
        "# Print the extracted text\n",
        "print(pdf_text)\n"
      ],
      "metadata": {
        "id": "e5TtTtaEz7zu",
        "colab": {
          "base_uri": "https://localhost:8080/"
        },
        "outputId": "622c7678-5bb6-4eed-ea0a-4fc7d0ce4176"
      },
      "execution_count": null,
      "outputs": [
        {
          "output_type": "stream",
          "name": "stdout",
          "text": [
            "Big Mac Index\n",
            "The Big Mac Index is a price index published since 1986 by The Economist as an informal way\n",
            "of measuring the purchasing power parity (PPP) between two currencies and providing a test of\n",
            "the extent to which market exchange rates result in goods costing the same in different\n",
            "countries. It \"seeks to make exchange-rate theory a bit more digestible.\" The index compares\n",
            "the relative price worldwide to purchase the Big Mac, a hamburger sold at McDonald's\n",
            "restaurants.\n",
            "Overview\n",
            "The Big Mac index was introduced in The Economist in September 1986 by Pam Woodall as a\n",
            "semi-humorous illustration of PPP and has been published by that paper annually since then.\n",
            "Although the Big Mac Index was not intended to be a legitimate tool for exchange rate\n",
            "evaluation, it is now globally recognised and featured in many academic textbooks and reports.\n",
            "The index also gave rise to the word burgernomics.\n",
            "The theory underpinning the Big Mac index stems from the concept of PPP, which states that\n",
            "the exchange rate between two currencies should equalize the prices charged for an identical\n",
            "basket of goods. However, in reality, sourcing an identical basket of goods in every country\n",
            "provides a complex challenge. According to the Organisation for Economic Co-operation and\n",
            "Development (OECD), over \"3,000 consumer goods and services, 30 occupations in\n",
            "government, 200 types of equipment goods and about 15 construction projects\" are included in\n",
            "the current PPP calculations. In an effort to simplify this important economic concept, The\n",
            "Economist proposed that a single McDonald’s Big Mac could be used instead of a basket of\n",
            "goods. A McDonald’s Big Mac was chosen because of the prevalence of the fast food chain\n",
            "worldwide, and because the sandwich remains largely the same across all countries.Although a\n",
            "single sandwich may seem overly simplistic for PPP theory, the price of a Big Mac is derived\n",
            "from the culmination of \"many local economic factors, such as the price of the ingredients, local\n",
            "wages, or how much it costs to put up billboards and buy TV ads\". As a result, the Big Mac\n",
            "index provides a \"reasonable measure of real-world purchasing power\".\n",
            "The purpose of the Big Mac index is to calculate an implied exchange rate between two\n",
            "currencies. In order to calculate the Big Mac index, the price of a Big Mac in a foreign country\n",
            "(in the foreign country’s currency) is divided by the price of a Big Mac in a base country (in the\n",
            "base country’s currency). Typically, the base country used is the United States.\n",
            "For example, using figures from July 2023\n",
            "In Switzerland, a Big Mac costs 6.70 Swiss franc.\n",
            "In the US, a Big Mac costs $5.58 USD.\n",
            "The implied exchange rate is 1.20 SFr/USD, that is 6.70SFr/$5.58USD = 1.20.\n",
            "Consistent with PPP economic theory, the Big Mac index also provides a method to analyse a\n",
            "currency’s level of under/over-valuation against a base currency.[9] In order to calculate whethera currency is under/over-valued, the implied exchange rate (as defined by the Big Mac index)\n",
            "must be compared to the actual exchange rate. If the implied exchange rate is greater than the\n",
            "actual exchange rate, then the analysed currency is overvalued against the base currency. If the\n",
            "implied exchange rate is less than the actual exchange rate, then the analysed currency is\n",
            "undervalued against the base currency.\n",
            "For example, using figures for July 2023:\n",
            "The implied exchange rate according to the Big Mac index is 1.20 SFr/USD\n",
            "The actual exchange rate is 0.87 SFr/USD\n",
            "The Swiss franc is overvalued by 38.5% against the US dollar, that is (1.20-0.87)/0.87 = 38.5%\n",
            "Variants\n",
            "The Economist sometimes produces variants on the theme. For example, in January 2004, it\n",
            "showed a Tall Latte index with the Big Mac replaced by a cup of Starbucks coffee.\n",
            "In 2007, an Australian bank tried a variation the Big Mac index, being an \"iPod index\": since the\n",
            "iPod is manufactured at a single place, the value of iPods should be more consistent globally.\n",
            "However, this theory can be criticised for ignoring shipping costs, which will vary depending on\n",
            "how far the product is delivered from its \"single place\" of manufacture in China.\n",
            "Bloomberg L.P. introduced the Billy index where they convert local prices of IKEA's Billy\n",
            "bookshelf into US dollars and compare the prices.\n",
            "Gold-Mac-Index: The value of the purchasing power for 1 g of gold ( calculation of the gold price\n",
            "average of the corresponding year), how many burgers one got for 1 g gold.\n",
            "A Swiss bank has expanded the idea of the Big Mac index to include the amount of time that an\n",
            "average local worker in a given country must work to earn enough to buy a Big Mac.\n",
            "In 2017, the comparison platform Versus did a version called The Chai Latte Global Index,\n",
            "comparing Starbucks Chai Latte prices worldwide, by first converting the local prices into USD.\n",
            "Global personal finance comparison website, Finder.com, released a more comprehensive\n",
            "Starbucks Index in 2019, which analyzed coffee prices for a tall latte in 76 countries and\n",
            "autonomous regions around the world. The report included a Latte Line, which measured the\n",
            "correlation between the price of coffee and a country's GDP.\n",
            "In 2022, Trusaic, a provider of equal pay compliance software, unveiled a new online tool called\n",
            "The Big Mac Pay Gap Index, which shows how much more a Big Mac would cost you, after\n",
            "adjusting the menu price of a Big Mac to reflect whatever pay gap you may face.\n",
            "Limitations\n",
            "While economists widely cite the Big Mac index as a reasonable real-world measurement of\n",
            "purchasing power parity, the burger methodology has some limitations.Map of countries with at least one McDonald's restaurant, showing the lack of restaurants in\n",
            "Africa (2022)\n",
            "The Big Mac Index is limited by geographical coverage, due to the presence of the McDonald's\n",
            "franchise. For example, in Africa McDonald's is only present in Morocco, Egypt, South Africa\n",
            "and Mauritius (there has been a similar index created solely for Africa called the \"KFC Index\": as\n",
            "the name suggests, instead of using a Big Mac, this index uses KFC's Original 15 pc. bucket to\n",
            "compile its data).\n",
            "In many countries, eating at international fast-food chain restaurants such as McDonald's is\n",
            "relatively expensive in comparison to eating at a local restaurant, and the demand for Big Macs\n",
            "is not as large in countries such as India as in the United States. Social status of eating at fast\n",
            "food restaurants such as McDonald's in a local market, what proportion of sales might be to\n",
            "expatriates, local taxes, levels of competition, and import duties on selected items may not be\n",
            "representative of the country's economy as a whole.\n",
            "In addition, there is no theoretical reason why non-tradable goods and services such as\n",
            "property costs should be equal in different countries: this is the theoretical reason for PPPs\n",
            "being different from market exchange rates over time. The relative cost of high-margin products,\n",
            "such as essential pharmaceutical products, or cellular telephony might compare local capacity\n",
            "and willingness to pay, as much as relative currency values.\n",
            "Nevertheless, McDonald's is also using different commercial strategies which can result in huge\n",
            "differences for a product. Overall, the price of a Big Mac will be a reflection of its local\n",
            "production and delivery cost, the cost of advertising (considerable in some areas), and most\n",
            "importantly what the local market will bear – quite different from country to country, and not all a\n",
            "reflection of relative currency values.\n",
            "In some markets, a high-volume and low-margin approach makes most sense to maximize\n",
            "profit, while in others a higher margin will generate more profit. Thus the relative prices reflect\n",
            "more than currency values. For example, a hamburger costs only €1 in France, and €1.50 in\n",
            "Belgium, but overall, McDonald's restaurants in both countries cost roughly the same. Prices of\n",
            "Big Macs can also vary greatly between different areas within a country. For example, a Big Mac\n",
            "sold in New York City will be more expensive than one sold at a McDonald's located in a rural\n",
            "area.\n",
            "One other example is that Russia had one of the cheapest Big Macs at its time in 2019, despite\n",
            "the fact that Moscow was then the most expensive city in the world. Standard food ingredients\n",
            "are cheap in Russia, while restaurants suitable for business dinners with English speaking staff\n",
            "are expensive.\n",
            "ManipulationCritics of the presidency of Cristina Fernández de Kirchner in Argentina and many economists\n",
            "believe that the government has for years falsified consumer price data to understate the\n",
            "country's true inflation rate. The Economist stated in January 2011 that Big Mac index \"does\n",
            "support claims that Argentina's government is cooking the books. The gap between its average\n",
            "annual rate of burger inflation (19%) and its official rate (10%) is far bigger than in any other\n",
            "country.\" That year the press began reporting on unusual behavior by the more than 200\n",
            "Argentinean McDonald's restaurants. They no longer prominently advertised Big Macs for sale\n",
            "and the sandwich, both individually and as part of value meals, was being sold for an unusually\n",
            "low price compared to other items. Guillermo Moreno, Secretary of Commerce in the Kirchner\n",
            "government, reportedly forced McDonald's to sell the Big Mac at an artificially low price to\n",
            "manipulate the country's performance on the Big Mac index. In June 2012, the price of the Big\n",
            "Mac value meal suddenly rose by 26%, closer to that of other meals, after The Economist, The\n",
            "New York Times, and other media reported on the unusual pricing. A Buenos Aires newspaper\n",
            "stated \"Moreno loses the battle\".\n",
            "Comparison issues\n",
            "The Big Mac (and virtually all sandwiches) vary from country to country with differing nutritional\n",
            "values, weights and even nominal size differences.\n",
            "Not all Big Mac burgers offered by the chain are exclusively beef. In India – which is a\n",
            "predominantly Hindu country – beef burgers are not available at any McDonald's outlets. The\n",
            "Chicken Maharaja Mac serves as a substitute for the Big Mac.\n",
            "There is a lot of variance with the exclusively beef \"Big Mac\": the Australian version of the Big\n",
            "Mac has 22% fewer calories than the Canadian version, and is 8% lighter than the version sold\n",
            "in Mexico.\n",
            "On 1 November 2009, all three of the McDonald's in Iceland closed, primarily due to the chain's\n",
            "high cost of importing most of the chain's meat and vegetables, by McDonald's demands and\n",
            "standards, from the Eurozone. At the time, a Big Mac in Iceland cost 650 krona ($5.29), and the\n",
            "20% price increase that would have been needed to stay in business would have increased that\n",
            "cost to 780 krona ($6.36). Fish and lamb are produced in Iceland, while beef is often imported\n",
            "(but also exported).\n",
            "Figures\n",
            "Six most expensive (July 2023) This statistic shows the most expensive places to buy a Big\n",
            "Mac.\n",
            "Switzerland – $7.73 (6.70 CHF)\n",
            "Norway – $6.92 (70 NOK)\n",
            "Uruguay – $6.86 (259 UYU)\n",
            "Argentina – $5.99 (1,650 ARS)\n",
            "EU – $5.82 (5.28 EUR)\n",
            "Sweden – $5.74 (60.27 SEK)Six cheapest (July 2023) This statistic shows the least expensive places to buy a Big Mac.\n",
            "Taiwan – $2.39 (75 TWD)\n",
            "Indonesia – $2.52 (38,000 IDR)\n",
            "India – $2.54 (209 INR)\n",
            "Egypt – $2.62 (81.00 EGP)\n",
            "South Africa – $2.81 (49.90 ZAR)\n",
            "Philippines – $2.82 (155 PHP)\n",
            "Six fastest earned (July 2015) This statistic shows the average working time required to buy one\n",
            "Big Mac in selected cities around the world in 2015.\n",
            "Hong Kong – 8.6 min\n",
            "Luxembourg – 10.3 min\n",
            "Japan, Tokyo – 10.4 min\n",
            "Switzerland, Zürich – 10.6 min\n",
            "United States, Miami – 10.7 min\n",
            "Switzerland, Geneva – 10.8 min\n",
            "Six slowest earned (July 2015) This statistic shows the average working time required to buy\n",
            "one Big Mac in selected cities around the world in 2015.\n",
            "Kenya, Nairobi – 172.6 min\n",
            "Philippines, Manila – 87.5 min\n",
            "Mexico, Mexico City – 78.4 min\n",
            "Indonesia, Jakarta – 66.7 min\n",
            "Egypt, Cairo – 62.5 min\n",
            "Ukraine, Kyiv – 54.7 min\n"
          ]
        }
      ]
    },
    {
      "cell_type": "code",
      "source": [
        "# Install necessary libraries\n",
        "!pip install langchain\n",
        "!pip install torch\n",
        "!pip install transformers"
      ],
      "metadata": {
        "id": "p-YvuBSglJdI"
      },
      "execution_count": null,
      "outputs": []
    },
    {
      "cell_type": "code",
      "source": [
        "from transformers import T5ForConditionalGeneration, T5Tokenizer\n",
        "\n",
        "# Load Hugging Face T5 model and tokenizer\n",
        "model_name = \"meta-llama/Meta-Llama-3-8B\"\n",
        "tokenizer = T5Tokenizer.from_pretrained(model_name)\n",
        "model = T5ForConditionalGeneration.from_pretrained(model_name)\n",
        "\n",
        "# Define the context from which you want to generate questions and answers\n",
        "context = pdf_text\n",
        "\n",
        "inputs = tokenizer.encode(\"question: \" + context, return_tensors=\"pt\", max_length=1024, truncation=True)\n",
        "\n",
        "# Generate questions\n",
        "questions = model.generate(inputs, max_length=256, num_return_sequences=1, early_stopping=True)\n",
        "\n",
        "# Decode and print the questions\n",
        "for i, question in enumerate(questions):\n",
        "    print(f\"Question {i + 1}: {tokenizer.decode(question, skip_special_tokens=True)}\")"
      ],
      "metadata": {
        "colab": {
          "base_uri": "https://localhost:8080/"
        },
        "id": "F7K0Tz5zqpvQ",
        "outputId": "610bf467-f1cc-4d8f-ce52-8bf8f2dcee3c"
      },
      "execution_count": null,
      "outputs": [
        {
          "output_type": "stream",
          "name": "stderr",
          "text": [
            "Special tokens have been added in the vocabulary, make sure the associated word embeddings are fine-tuned or trained.\n"
          ]
        },
        {
          "output_type": "stream",
          "name": "stdout",
          "text": [
            "Question 1: the Swiss franc is overvalued by 38.5% against the US dollar\n"
          ]
        }
      ]
    },
    {
      "cell_type": "code",
      "source": [
        "from transformers import T5ForConditionalGeneration, T5Tokenizer\n",
        "\n",
        "# Load Hugging Face T5 model and tokenizer\n",
        "model_name = \"t5-base\"\n",
        "tokenizer = T5Tokenizer.from_pretrained(model_name)\n",
        "model = T5ForConditionalGeneration.from_pretrained(model_name)\n",
        "\n",
        "# Define the context from which you want to generate questions and answers\n",
        "context = pdf_text\n",
        "\n",
        "# Generate questions\n",
        "inputs = tokenizer.encode(\"question: \" + context, return_tensors=\"pt\", max_length=1024, truncation=True)\n",
        "questions = model.generate(inputs, max_length=256, num_return_sequences=1, early_stopping=True)\n",
        "\n",
        "# Decode and print the questions\n",
        "for i, question in enumerate(questions):\n",
        "    print(f\"Question {i + 1}: {tokenizer.decode(question, skip_special_tokens=True)}\")\n",
        "\n",
        "# Generate answers\n",
        "inputs = tokenizer.encode(\"answer: \" + context, return_tensors=\"pt\", max_length=1024, truncation=True)\n",
        "answers = model.generate(inputs, max_length=256, num_return_sequences=1, early_stopping=True)\n",
        "\n",
        "# Decode and print the answers\n",
        "for i, answer in enumerate(answers):\n",
        "    print(f\"Answer {i + 1}: {tokenizer.decode(answer, skip_special_tokens=True)}\")\n"
      ],
      "metadata": {
        "id": "aSxkbv9LsFFw",
        "colab": {
          "base_uri": "https://localhost:8080/"
        },
        "outputId": "8fdf0248-0b9c-488e-e74e-d5c4c2d528a9"
      },
      "execution_count": 15,
      "outputs": [
        {
          "output_type": "stream",
          "name": "stderr",
          "text": [
            "Special tokens have been added in the vocabulary, make sure the associated word embeddings are fine-tuned or trained.\n"
          ]
        },
        {
          "output_type": "stream",
          "name": "stdout",
          "text": [
            "Question 1: the Swiss franc is overvalued by 38.5% against the US dollar\n",
            "Answer 1: True story: the Big Mac index is an informal way of measuring the purchasing power parity between two currencies. the index uses the price of a hamburger in a foreign country divided by the price of a Big Mac in a base country. the index also provides a method to analyse whether a currency is under/over-valued against the base currency.\n"
          ]
        }
      ]
    },
    {
      "cell_type": "code",
      "source": [
        "from transformers import T5ForConditionalGeneration, T5Tokenizer\n",
        "\n",
        "# Load the T5 model and tokenizer\n",
        "model_name = \"t5-base\"\n",
        "tokenizer = T5Tokenizer.from_pretrained(model_name)\n",
        "model = T5ForConditionalGeneration.from_pretrained(model_name)\n",
        "original_text = pdf_text\n",
        "# Define the questions to be answered\n",
        "questions = [\n",
        "    \"What is the purpose of the Big Mac Index?\",\n",
        "    \"Who introduced the Big Mac Index?\",\n",
        "    \"What is the underlying theory of the Big Mac Index?\",\n",
        "    \"How does the Big Mac Index compare prices worldwide?\",\n",
        "    \"What does the Big Mac Index measure?\",\n",
        "    \"What is the significance of the Big Mac Index?\",\n",
        "    \"What concept does the Big Mac Index illustrate?\",\n",
        "    \"What does the Big Mac Index compare?\",\n",
        "    \"How is the exchange rate between two currencies related to the Big Mac Index?\",\n",
        "    \"What term was derived from the Big Mac Index?\",\n",
        "]\n",
        "\n",
        "# Generate answers\n",
        "answers = []\n",
        "for question in questions:\n",
        "    input_text = f\"question: {question} context: {context}\"\n",
        "    input_ids = tokenizer.encode(input_text, return_tensors=\"pt\", max_length=512, truncation=True)\n",
        "    outputs = model.generate(input_ids=input_ids, max_length=512, num_return_sequences=1, early_stopping=True)\n",
        "    answer = tokenizer.decode(outputs[0], skip_special_tokens=True)\n",
        "    answers.append(answer)\n",
        "\n",
        "# Print questions and answers\n",
        "for i, (question, answer) in enumerate(zip(questions, answers), 1):\n",
        "    print(f\"Question {i}: {question}\")\n",
        "    print(f\"Answer {i}: {answer}\\n\")"
      ],
      "metadata": {
        "colab": {
          "base_uri": "https://localhost:8080/"
        },
        "id": "Xo88L9QhxPCf",
        "outputId": "8758315a-4ef5-4ebb-cb44-7803fc2658a9"
      },
      "execution_count": 20,
      "outputs": [
        {
          "output_type": "stream",
          "name": "stderr",
          "text": [
            "Special tokens have been added in the vocabulary, make sure the associated word embeddings are fine-tuned or trained.\n"
          ]
        },
        {
          "output_type": "stream",
          "name": "stdout",
          "text": [
            "Question 1: What is the purpose of the Big Mac Index?\n",
            "Answer 1: to calculate an implied exchange rate between two currencies\n",
            "\n",
            "Question 2: Who introduced the Big Mac Index?\n",
            "Answer 2: Pam Woodall\n",
            "\n",
            "Question 3: What is the underlying theory of the Big Mac Index?\n",
            "Answer 3: PPP\n",
            "\n",
            "Question 4: How does the Big Mac Index compare prices worldwide?\n",
            "Answer 4: the relative price worldwide to purchase the Big Mac, a hamburger sold at McDonald's restaurants\n",
            "\n",
            "Question 5: What does the Big Mac Index measure?\n",
            "Answer 5: purchasing power parity\n",
            "\n",
            "Question 6: What is the significance of the Big Mac Index?\n",
            "Answer 6: provides a \"reasonable measure of real-world purchasing power\"\n",
            "\n",
            "Question 7: What concept does the Big Mac Index illustrate?\n",
            "Answer 7: purchasing power parity\n",
            "\n",
            "Question 8: What does the Big Mac Index compare?\n",
            "Answer 8: relative price worldwide to purchase the Big Mac\n",
            "\n",
            "Question 9: How is the exchange rate between two currencies related to the Big Mac Index?\n",
            "Answer 9: equalize the prices charged for an identical basket of goods\n",
            "\n",
            "Question 10: What term was derived from the Big Mac Index?\n",
            "Answer 10: burgernomics\n",
            "\n"
          ]
        }
      ]
    },
    {
      "cell_type": "code",
      "source": [],
      "metadata": {
        "id": "PhGMqtwzzAEE"
      },
      "execution_count": null,
      "outputs": []
    }
  ]
}